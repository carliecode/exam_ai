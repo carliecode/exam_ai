{
 "cells": [
  {
   "cell_type": "code",
   "execution_count": 10,
   "metadata": {},
   "outputs": [],
   "source": [
    "import requests\n",
    "import pandas as pd\n",
    "import logging\n",
    "\n",
    "URL = 'http://api.openweathermap.org/data/2.5/weather'\n",
    "API_KEY = '125f4ed5adbba45453a9bce0ee4a1e60'\n",
    "\n",
    "logger = logging.getLogger(__name__)\n",
    "logger.setLevel(logging.DEBUG)\n",
    "file_handler = logging.FileHandler('Question 5.log')\n",
    "formatter = logging.Formatter('%(asctime)s - %(name)s - %(levelname)s - %(message)s')\n",
    "file_handler.setFormatter(formatter)\n",
    "logger.addHandler(file_handler)"
   ]
  },
  {
   "cell_type": "code",
   "execution_count": 11,
   "metadata": {},
   "outputs": [],
   "source": [
    "def query_weather_service(location):\n",
    "    try:\n",
    "        logger.info(f'Getting weather data for {location}')\n",
    "        parameters = {\n",
    "            'q': location, \n",
    "            'appid': API_KEY, \n",
    "            'units': 'metric'\n",
    "        }\n",
    "        response = requests.get(URL, params=parameters)\n",
    "        response.raise_for_status() \n",
    "        data = response.json()\n",
    "        return data\n",
    "    except requests.exceptions.RequestException as e:\n",
    "        logger.error(f'An error occurred while getting weather data: {e}')\n",
    "        raise\n",
    "    except Exception as e:\n",
    "        logger.error(f'An unexpected error occurred: {e}')\n",
    "        raise"
   ]
  },
  {
   "cell_type": "code",
   "execution_count": 12,
   "metadata": {},
   "outputs": [],
   "source": [
    "def run_weather_report():\n",
    "    locations = [\n",
    "        'New York', \n",
    "        'Los Angeles', \n",
    "        'Chicago', \n",
    "        'Houston', \n",
    "        'Phoenix'\n",
    "    ]\n",
    "\n",
    "    response_data = []\n",
    "    for item in locations:        \n",
    "        data = query_weather_service(item)\n",
    "        if data: \n",
    "            response_data_item = {\n",
    "                'city': item, \n",
    "                'temperature': data['main']['temp'], \n",
    "                'weather_description': data['weather'][0]['description']            \n",
    "            }\n",
    "            response_data.append(response_data_item)\n",
    "        else:\n",
    "            logger.info(f'Data was not returned for {item}')\n",
    "        \n",
    "    \n",
    "    df = pd.DataFrame(response_data)\n",
    "    print(df)"
   ]
  },
  {
   "cell_type": "code",
   "execution_count": 13,
   "metadata": {},
   "outputs": [
    {
     "name": "stdout",
     "output_type": "stream",
     "text": [
      "          city  temperature weather_description\n",
      "0     New York        11.95       moderate rain\n",
      "1  Los Angeles        14.47                haze\n",
      "2      Chicago        -2.44          few clouds\n",
      "3      Houston        10.57           clear sky\n",
      "4      Phoenix        13.79          few clouds\n"
     ]
    }
   ],
   "source": [
    "if __name__ == '__main__':\n",
    "    run_weather_report()"
   ]
  }
 ],
 "metadata": {
  "kernelspec": {
   "display_name": "venv-data-engineering",
   "language": "python",
   "name": "python3"
  },
  "language_info": {
   "codemirror_mode": {
    "name": "ipython",
    "version": 3
   },
   "file_extension": ".py",
   "mimetype": "text/x-python",
   "name": "python",
   "nbconvert_exporter": "python",
   "pygments_lexer": "ipython3",
   "version": "3.11.1"
  }
 },
 "nbformat": 4,
 "nbformat_minor": 2
}
